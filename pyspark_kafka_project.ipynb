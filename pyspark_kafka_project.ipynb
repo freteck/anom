{
 "cells": [
  {
   "cell_type": "markdown",
   "metadata": {},
   "source": [
    "### Anomaly Detection in Server Logs\n",
    "#### CS 5614: Big Data Engineering\n",
    "#### By: Vanessa Eichensehr and Bradley Freedman\n"
   ]
  },
  {
   "cell_type": "markdown",
   "metadata": {},
   "source": [
    "**Project Objective:**  \n",
    "\n",
    "Build a machine learning-based model that detects anomalies on a high volume high velocity log base. "
   ]
  },
  {
   "cell_type": "code",
   "execution_count": null,
   "metadata": {},
   "outputs": [
    {
     "name": "stderr",
     "output_type": "stream",
     "text": [
      "25/05/04 10:24:43 ERROR StandaloneSchedulerBackend: Application has been killed. Reason: All masters are unresponsive! Giving up.\n",
      "25/05/04 10:24:43 WARN StandaloneSchedulerBackend: Application ID is not initialized yet.\n",
      "25/05/04 10:24:44 WARN StandaloneAppClient$ClientEndpoint: Drop UnregisterApplication(null) because has not yet connected to master\n"
     ]
    }
   ],
   "source": [
    "from pyspark.sql import SparkSession\n",
    "\n",
    "spark = SparkSession.\\\n",
    "        builder.\\\n",
    "        appName(\"pyspark-kafka-streaming\").\\\n",
    "        master(\"spark://spark-master:7077\").\\\n",
    "        config(\"spark.jars.packages\", \"org.apache.spark:spark-sql-kafka-0-10_2.12:3.0.0\"). \\\n",
    "        config(\"spark.executor.memory\", \"512m\").\\\n",
    "        getOrCreate()"
   ]
  },
  {
   "cell_type": "markdown",
   "metadata": {},
   "source": [
    "**Step 1:** \n",
    "\n",
    "Create a streaming DataFrame in Spark that reads data from a Kafka topic named \"topic_test\" and starts\n",
    "processing from the beginning of the topic's log using the earliest available offset. \n",
    "\n",
    "Uses kafka:9093 as the bootstrap server."
   ]
  },
  {
   "cell_type": "code",
   "execution_count": null,
   "metadata": {},
   "outputs": [],
   "source": [
    "df_streamed_raw = (spark.readStream.format(\"kafka\").option(\"kafka.bootstrap.servers\", \"kafka:9093\").option(\"subscribe\", \"topic_test\").load())"
   ]
  },
  {
   "cell_type": "code",
   "execution_count": 3,
   "metadata": {},
   "outputs": [
    {
     "name": "stderr",
     "output_type": "stream",
     "text": [
      "25/04/22 00:17:01 WARN StreamingQueryManager: Temporary checkpoint location created which is deleted normally when the query didn't fail: /tmp/temporary-eec0e83f-155c-4662-a10b-b8683c6aba5d. If it's required to delete it under any circumstances, please set spark.sql.streaming.forceDeleteTempCheckpointLocation to true. Important to know deleting temp checkpoint folder is best effort.\n",
      "                                                                                \r"
     ]
    }
   ],
   "source": [
    "from pyspark.sql.types import StringType\n",
    "from pyspark.sql.functions import col\n",
    "\n",
    "# convert byte stream to string\n",
    "df_streamed_kv = (df_streamed_raw\n",
    "    .withColumn(\"key\", df_streamed_raw[\"key\"].cast(StringType()))\n",
    "    .withColumn(\"value\", df_streamed_raw[\"value\"].cast(StringType())))\n",
    "\n",
    "test_query = (df_streamed_kv \n",
    "              .writeStream \\\n",
    "              .format(\"memory\") # output to memory \\\n",
    "              .outputMode(\"update\") # only write updated rows to the sink \\\n",
    "              .queryName(\"test_query_table\")  # Name of the in memory table \\\n",
    "              .start())"
   ]
  },
  {
   "cell_type": "markdown",
   "metadata": {},
   "source": [
    "If done properly, the following cell should display the values being produced from your producer:"
   ]
  },
  {
   "cell_type": "code",
   "execution_count": 4,
   "metadata": {},
   "outputs": [
    {
     "name": "stdout",
     "output_type": "stream",
     "text": [
      "+---+--------------------+----------+---------+-------+--------------------+-------------+\n",
      "|key|               value|     topic|partition| offset|           timestamp|timestampType|\n",
      "+---+--------------------+----------+---------+-------+--------------------+-------------+\n",
      "|509|{\"ip_address\": \"1...|topic_test|        0|2207562|2025-04-22 00:17:...|            0|\n",
      "|510|{\"ip_address\": \"1...|topic_test|        0|2207563|2025-04-22 00:17:...|            0|\n",
      "|511|{\"ip_address\": \"2...|topic_test|        0|2207564|2025-04-22 00:17:...|            0|\n",
      "|512|{\"ip_address\": \"3...|topic_test|        0|2207565|2025-04-22 00:17:...|            0|\n",
      "|513|{\"ip_address\": \"3...|topic_test|        0|2207566|2025-04-22 00:17:...|            0|\n",
      "|514|{\"ip_address\": \"3...|topic_test|        0|2207567|2025-04-22 00:17:...|            0|\n",
      "|515|{\"ip_address\": \"3...|topic_test|        0|2207568|2025-04-22 00:17:...|            0|\n",
      "|516|{\"ip_address\": \"1...|topic_test|        0|2207569|2025-04-22 00:17:...|            0|\n",
      "|517|{\"ip_address\": \"1...|topic_test|        0|2207570|2025-04-22 00:17:...|            0|\n",
      "|518|{\"ip_address\": \"6...|topic_test|        0|2207571|2025-04-22 00:17:...|            0|\n",
      "|519|{\"ip_address\": \"1...|topic_test|        0|2207572|2025-04-22 00:17:...|            0|\n",
      "|520|{\"ip_address\": \"5...|topic_test|        0|2207573|2025-04-22 00:17:...|            0|\n",
      "|521|{\"ip_address\": \"4...|topic_test|        0|2207574|2025-04-22 00:17:...|            0|\n",
      "|522|{\"ip_address\": \"4...|topic_test|        0|2207575|2025-04-22 00:17:...|            0|\n",
      "|523|{\"ip_address\": \"1...|topic_test|        0|2207576|2025-04-22 00:17:...|            0|\n",
      "|524|{\"ip_address\": \"6...|topic_test|        0|2207577|2025-04-22 00:17:...|            0|\n",
      "|525|{\"ip_address\": \"6...|topic_test|        0|2207578|2025-04-22 00:17:...|            0|\n",
      "|526|{\"ip_address\": \"1...|topic_test|        0|2207579|2025-04-22 00:17:...|            0|\n",
      "|527|{\"ip_address\": \"1...|topic_test|        0|2207580|2025-04-22 00:17:...|            0|\n",
      "|528|{\"ip_address\": \"5...|topic_test|        0|2207581|2025-04-22 00:17:...|            0|\n",
      "+---+--------------------+----------+---------+-------+--------------------+-------------+\n",
      "only showing top 20 rows\n",
      "\n"
     ]
    }
   ],
   "source": [
    "spark.sql(\"select * from test_query_table\").show()"
   ]
  },
  {
   "cell_type": "code",
   "execution_count": 5,
   "metadata": {},
   "outputs": [],
   "source": [
    "test_query.stop()"
   ]
  },
  {
   "cell_type": "markdown",
   "metadata": {},
   "source": [
    "#### The following cells contain code that take the streamed dataframe and formats it properly into a table. If any of the given cells fails, there might be a formatting issue with one of your previous solutions. "
   ]
  },
  {
   "cell_type": "code",
   "execution_count": null,
   "metadata": {},
   "outputs": [],
   "source": [
    "from pyspark.sql.functions import from_json\n",
    "from pyspark.sql.types import StructType, StructField, BooleanType, LongType, IntegerType\n",
    "\n",
    "event_schema = StructType([\n",
    "    StructField(\"ip_address\", StringType()),\n",
    "    StructField(\"date_time\", StringType()),\n",
    "    StructField(\"request_type\", StringType()),\n",
    "    StructField(\"request_arg\", StringType()),\n",
    "    StructField(\"status_code\", StringType()),\n",
    "    StructField(\"response_size\", StringType()),\n",
    "    StructField(\"referrer\", StringType()),\n",
    "    StructField(\"user_agent\", StringType())\n",
    "])\n",
    "\n",
    "# Parse the events from JSON format\n",
    "df_parsed = (df_streamed_kv\n",
    "           # Sets schema for event data\n",
    "           .withColumn(\"value\", from_json(\"value\", event_schema))\n",
    "          )"
   ]
  },
  {
   "cell_type": "code",
   "execution_count": null,
   "metadata": {},
   "outputs": [],
   "source": [
    "df_formatted = (df_parsed.select(\n",
    "    col(\"key\").alias(\"event_key\")\n",
    "    ,col(\"topic\").alias(\"event_topic\")\n",
    "    ,col(\"timestamp\").alias(\"event_timestamp\")\n",
    "    ,col(\"value.ip_address\").alias(\"ip_address\")\n",
    "    ,col(\"value.date_time\").alias(\"date_time\")\n",
    "    ,col(\"value.request_type\").alias(\"request_type\")\n",
    "    ,col(\"value.request_arg\").alias(\"request_arg\")\n",
    "    ,col(\"value.status_code\").alias(\"status_code\")\n",
    "    ,col(\"value.response_size\").cast(IntegerType()).alias(\"response_size\")\n",
    "    ,col(\"value.referrer\").alias(\"referrer\")\n",
    "    ,col(\"value.user_agent\").alias(\"user_agent\")\n",
    "))"
   ]
  },
  {
   "cell_type": "code",
   "execution_count": null,
   "metadata": {},
   "outputs": [
    {
     "name": "stderr",
     "output_type": "stream",
     "text": [
      "25/04/22 00:17:45 WARN StreamingQueryManager: Temporary checkpoint location created which is deleted normally when the query didn't fail: /tmp/temporary-01f41fcd-a17c-480f-99a5-8c6ccf85f1d2. If it's required to delete it under any circumstances, please set spark.sql.streaming.forceDeleteTempCheckpointLocation to true. Important to know deleting temp checkpoint folder is best effort.\n"
     ]
    },
    {
     "name": "stdout",
     "output_type": "stream",
     "text": [
      "-------------------------------------------\n",
      "Batch: 0\n",
      "-------------------------------------------\n",
      "+---------+-----------+---------------+----------+---------+------------+-----------+-----------+-------------+--------+----------+\n",
      "|event_key|event_topic|event_timestamp|ip_address|date_time|request_type|request_arg|status_code|response_size|referrer|user_agent|\n",
      "+---------+-----------+---------------+----------+---------+------------+-----------+-----------+-------------+--------+----------+\n",
      "+---------+-----------+---------------+----------+---------+------------+-----------+-----------+-------------+--------+----------+\n",
      "\n",
      "-------------------------------------------\n",
      "Batch: 1\n",
      "-------------------------------------------\n",
      "+---------+-----------+--------------------+--------------+--------------------+------------+--------------------+-----------+-------------+--------------------+--------------------+\n",
      "|event_key|event_topic|     event_timestamp|    ip_address|           date_time|request_type|         request_arg|status_code|response_size|            referrer|          user_agent|\n",
      "+---------+-----------+--------------------+--------------+--------------------+------------+--------------------+-----------+-------------+--------------------+--------------------+\n",
      "|      913| topic_test|2025-04-22 00:17:...|91.251.165.118|22/Jan/2019:03:59...|         GET|/image/57070/prod...|        200|         2894|https://www.zanbi...|Mozilla/5.0 (iPho...|\n",
      "|      914| topic_test|2025-04-22 00:17:...|91.251.165.118|22/Jan/2019:03:59...|         GET|/image/57072/prod...|        200|         3263|https://www.zanbi...|Mozilla/5.0 (iPho...|\n",
      "|      915| topic_test|2025-04-22 00:17:...| 66.111.54.249|22/Jan/2019:03:59...|         GET|/image/64841/prod...|        200|         2555|https://www.zanbi...|Mozilla/5.0 (Linu...|\n",
      "|      916| topic_test|2025-04-22 00:17:...| 66.111.54.249|22/Jan/2019:03:59...|         GET|/image/64549/prod...|        200|         2640|https://www.zanbi...|Mozilla/5.0 (Linu...|\n",
      "|      917| topic_test|2025-04-22 00:17:...| 66.111.54.249|22/Jan/2019:03:59...|         GET|/image/65319/prod...|        200|         2847|https://www.zanbi...|Mozilla/5.0 (Linu...|\n",
      "|      918| topic_test|2025-04-22 00:17:...|91.251.165.118|22/Jan/2019:03:59...|         GET|/image/56983/prod...|        200|         3285|https://www.zanbi...|Mozilla/5.0 (iPho...|\n",
      "|      919| topic_test|2025-04-22 00:17:...| 66.111.54.249|22/Jan/2019:03:59...|         GET|/image/60744/prod...|        200|         2497|https://www.zanbi...|Mozilla/5.0 (Linu...|\n",
      "|      920| topic_test|2025-04-22 00:17:...|130.185.74.243|22/Jan/2019:03:59...|         GET|/filter/stexists,...|        200|        31013|                   -|Mozilla/5.0 (Wind...|\n",
      "|      921| topic_test|2025-04-22 00:17:...| 66.111.54.249|22/Jan/2019:03:59...|         GET|/image/57603/prod...|        200|         3306|https://www.zanbi...|Mozilla/5.0 (Linu...|\n",
      "|      922| topic_test|2025-04-22 00:17:...| 66.111.54.249|22/Jan/2019:03:59...|         GET|/image/11573/prod...|        200|         3514|https://www.zanbi...|Mozilla/5.0 (Linu...|\n",
      "|      923| topic_test|2025-04-22 00:17:...| 66.249.66.194|22/Jan/2019:03:59...|         GET|/m/product/17764/...|        200|        20247|                   -|Mozilla/5.0 (Linu...|\n",
      "|      924| topic_test|2025-04-22 00:17:...|91.251.165.118|22/Jan/2019:03:59...|         GET|/image/57082/prod...|        200|         3826|https://www.zanbi...|Mozilla/5.0 (iPho...|\n",
      "|      925| topic_test|2025-04-22 00:17:...|  5.115.54.117|22/Jan/2019:03:59...|         GET|/static/css/font/...|        200|        28536|https://www.zanbi...|Mozilla/5.0 (Andr...|\n",
      "|      926| topic_test|2025-04-22 00:17:...|91.251.165.118|22/Jan/2019:03:59...|         GET|/image/61911/prod...|        200|         3781|https://www.zanbi...|Mozilla/5.0 (iPho...|\n",
      "|      927| topic_test|2025-04-22 00:17:...|  5.115.54.117|22/Jan/2019:03:59...|         GET|/static/images/gu...|        200|         6496|https://www.zanbi...|Mozilla/5.0 (Andr...|\n",
      "|      928| topic_test|2025-04-22 00:17:...|  5.115.54.117|22/Jan/2019:03:59...|         GET|/static/images/gu...|        200|         5807|https://www.zanbi...|Mozilla/5.0 (Andr...|\n",
      "|      929| topic_test|2025-04-22 00:17:...|  5.115.54.117|22/Jan/2019:03:59...|         GET|/static/images/gu...|        200|         7356|https://www.zanbi...|Mozilla/5.0 (Andr...|\n",
      "|      930| topic_test|2025-04-22 00:17:...|  5.115.54.117|22/Jan/2019:03:59...|         GET|/static/images/gu...|        200|         6454|https://www.zanbi...|Mozilla/5.0 (Andr...|\n",
      "|      931| topic_test|2025-04-22 00:17:...|  5.115.54.117|22/Jan/2019:03:59...|         GET|/static/images/gu...|        200|         7713|https://www.zanbi...|Mozilla/5.0 (Andr...|\n",
      "|      932| topic_test|2025-04-22 00:17:...| 66.111.54.249|22/Jan/2019:03:59...|         GET|/image/59833/prod...|        200|         3702|https://www.zanbi...|Mozilla/5.0 (Linu...|\n",
      "+---------+-----------+--------------------+--------------+--------------------+------------+--------------------+-----------+-------------+--------------------+--------------------+\n",
      "only showing top 20 rows\n",
      "\n",
      "-------------------------------------------\n",
      "Batch: 2\n",
      "-------------------------------------------\n",
      "+---------+-----------+--------------------+--------------+--------------------+------------+--------------------+-----------+-------------+--------------------+--------------------+\n",
      "|event_key|event_topic|     event_timestamp|    ip_address|           date_time|request_type|         request_arg|status_code|response_size|            referrer|          user_agent|\n",
      "+---------+-----------+--------------------+--------------+--------------------+------------+--------------------+-----------+-------------+--------------------+--------------------+\n",
      "|      949| topic_test|2025-04-22 00:17:...| 207.46.13.136|22/Jan/2019:03:59...|         GET|/filter/b198,p638...|        200|        31504|                   -|Mozilla/5.0 (comp...|\n",
      "|      950| topic_test|2025-04-22 00:17:...|  95.81.118.56|22/Jan/2019:03:59...|         GET|/filter/b1,p62 HT...|        200|        34370|https://www.googl...|Mozilla/5.0 (Wind...|\n",
      "|      951| topic_test|2025-04-22 00:17:...| 66.249.66.194|22/Jan/2019:03:59...|         GET|/m/filter/b1,b103...|        200|        27095|                   -|Mozilla/5.0 (Linu...|\n",
      "|      952| topic_test|2025-04-22 00:17:...|  5.115.54.117|22/Jan/2019:03:59...|         GET|/image/879/brand ...|        200|         3348|https://www.zanbi...|Mozilla/5.0 (Andr...|\n",
      "|      953| topic_test|2025-04-22 00:17:...|  5.115.54.117|22/Jan/2019:03:59...|         GET|/image/103/brand ...|        200|         2780|https://www.zanbi...|Mozilla/5.0 (Andr...|\n",
      "|      954| topic_test|2025-04-22 00:17:...|  5.115.54.117|22/Jan/2019:03:59...|         GET|/image/58/brand H...|        200|         2349|https://www.zanbi...|Mozilla/5.0 (Andr...|\n",
      "|      955| topic_test|2025-04-22 00:17:...|  5.115.54.117|22/Jan/2019:03:59...|         GET|/image/2/productT...|        200|        11100|https://www.zanbi...|Mozilla/5.0 (Andr...|\n",
      "|      956| topic_test|2025-04-22 00:17:...|  5.115.54.117|22/Jan/2019:03:59...|         GET|/image/41/brand H...|        200|         2946|https://www.zanbi...|Mozilla/5.0 (Andr...|\n",
      "|      957| topic_test|2025-04-22 00:17:...|  5.115.54.117|22/Jan/2019:03:59...|         GET|/image/1/productT...|        200|        11069|https://www.zanbi...|Mozilla/5.0 (Andr...|\n",
      "|      958| topic_test|2025-04-22 00:17:...|  5.115.54.117|22/Jan/2019:03:59...|         GET|/image/27/product...|        200|        11079|https://www.zanbi...|Mozilla/5.0 (Andr...|\n",
      "|      959| topic_test|2025-04-22 00:17:...|  5.115.54.117|22/Jan/2019:03:59...|         GET|/image/63600/prod...|        200|         5681|https://www.zanbi...|Mozilla/5.0 (Andr...|\n",
      "|      960| topic_test|2025-04-22 00:17:...|  5.115.54.117|22/Jan/2019:03:59...|         GET|/image/60765/prod...|        200|         6023|https://www.zanbi...|Mozilla/5.0 (Andr...|\n",
      "|      961| topic_test|2025-04-22 00:17:...|204.18.198.248|22/Jan/2019:03:59...|         GET|/m/product/3597/2...|        200|        20382|https://www.zanbi...|Mozilla/5.0 (iPho...|\n",
      "|      962| topic_test|2025-04-22 00:17:...|  95.81.118.56|22/Jan/2019:03:59...|         GET|/static/bundle-bu...|        200|        55531|https://www.zanbi...|Mozilla/5.0 (Wind...|\n",
      "|      963| topic_test|2025-04-22 00:17:...|130.185.74.243|22/Jan/2019:03:59...|         GET|/filter/stexists,...|        200|        31013|                   -|Mozilla/5.0 (Wind...|\n",
      "|      964| topic_test|2025-04-22 00:17:...|204.18.198.248|22/Jan/2019:03:59...|         GET|/settings/logo HT...|        200|         4120|https://www.zanbi...|Mozilla/5.0 (iPho...|\n",
      "|      965| topic_test|2025-04-22 00:17:...|  95.81.118.56|22/Jan/2019:03:59...|         GET|/image/%7B%7Bbask...|        200|            5|https://www.zanbi...|Mozilla/5.0 (Wind...|\n",
      "|      966| topic_test|2025-04-22 00:17:...|  5.115.54.117|22/Jan/2019:03:59...|         GET|/favicon.ico HTTP...|        200|            0|                   -|Mozilla/5.0 (Andr...|\n",
      "|      967| topic_test|2025-04-22 00:17:...|  5.115.54.117|22/Jan/2019:03:59...|         GET|/image/180/brand ...|        200|         2566|https://www.zanbi...|Mozilla/5.0 (Andr...|\n",
      "|      968| topic_test|2025-04-22 00:17:...|  5.115.54.117|22/Jan/2019:03:59...|         GET|/image/185/brand ...|        200|         2299|https://www.zanbi...|Mozilla/5.0 (Andr...|\n",
      "+---------+-----------+--------------------+--------------+--------------------+------------+--------------------+-----------+-------------+--------------------+--------------------+\n",
      "only showing top 20 rows\n",
      "\n",
      "-------------------------------------------\n",
      "Batch: 3\n",
      "-------------------------------------------\n",
      "+---------+-----------+--------------------+-------------+--------------------+------------+--------------------+-----------+-------------+--------------------+--------------------+\n",
      "|event_key|event_topic|     event_timestamp|   ip_address|           date_time|request_type|         request_arg|status_code|response_size|            referrer|          user_agent|\n",
      "+---------+-----------+--------------------+-------------+--------------------+------------+--------------------+-----------+-------------+--------------------+--------------------+\n",
      "|      995| topic_test|2025-04-22 00:17:...|  89.47.79.75|22/Jan/2019:03:59...|         GET|/static/css/font_...|        200|        77171|https://znbl.ir/s...|Mozilla/5.0 (Wind...|\n",
      "|      996| topic_test|2025-04-22 00:17:...|  89.47.79.75|22/Jan/2019:03:59...|         GET|/static/images/th...|        200|        56076|https://www.zanbi...|Mozilla/5.0 (Wind...|\n",
      "|      997| topic_test|2025-04-22 00:17:...|  89.47.79.75|22/Jan/2019:03:59...|         GET|/image/1193/artic...|        200|        19086|https://www.zanbi...|Mozilla/5.0 (Wind...|\n",
      "|      998| topic_test|2025-04-22 00:17:...|  89.47.79.75|22/Jan/2019:03:59...|         GET|/static/images/am...|        200|         3863|https://www.zanbi...|Mozilla/5.0 (Wind...|\n",
      "|      999| topic_test|2025-04-22 00:17:...|  89.47.79.75|22/Jan/2019:03:59...|         GET|/static/images/se...|        200|          217|https://znbl.ir/s...|Mozilla/5.0 (Wind...|\n",
      "|        0| topic_test|2025-04-22 00:17:...| 54.36.149.41|22/Jan/2019:03:56...|         GET|/filter/27|13%20%...|        200|        30577|                   -|Mozilla/5.0 (comp...|\n",
      "|        1| topic_test|2025-04-22 00:17:...|  31.56.96.51|22/Jan/2019:03:56...|         GET|/image/60844/prod...|        200|         5667|https://www.zanbi...|Mozilla/5.0 (Linu...|\n",
      "|        2| topic_test|2025-04-22 00:17:...|  31.56.96.51|22/Jan/2019:03:56...|         GET|/image/61474/prod...|        200|         5379|https://www.zanbi...|Mozilla/5.0 (Linu...|\n",
      "|        3| topic_test|2025-04-22 00:17:...|40.77.167.129|22/Jan/2019:03:56...|         GET|/image/14925/prod...|        200|         1696|                   -|Mozilla/5.0 (comp...|\n",
      "|        4| topic_test|2025-04-22 00:17:...|  91.99.72.15|22/Jan/2019:03:56...|         GET|/product/31893/62...|        200|        41483|                   -|Mozilla/5.0 (Wind...|\n",
      "|        5| topic_test|2025-04-22 00:17:...|40.77.167.129|22/Jan/2019:03:56...|         GET|/image/23488/prod...|        200|         2654|                   -|Mozilla/5.0 (comp...|\n",
      "|        6| topic_test|2025-04-22 00:17:...|40.77.167.129|22/Jan/2019:03:56...|         GET|/image/45437/prod...|        200|         3688|                   -|Mozilla/5.0 (comp...|\n",
      "|        7| topic_test|2025-04-22 00:17:...|40.77.167.129|22/Jan/2019:03:56...|         GET|/image/576/articl...|        200|        14776|                   -|Mozilla/5.0 (comp...|\n",
      "|        8| topic_test|2025-04-22 00:17:...|66.249.66.194|22/Jan/2019:03:56...|         GET|/filter/b41,b665,...|        200|        34277|                   -|Mozilla/5.0 (comp...|\n",
      "|        9| topic_test|2025-04-22 00:17:...|40.77.167.129|22/Jan/2019:03:56...|         GET|/image/57710/prod...|        200|         1695|                   -|Mozilla/5.0 (comp...|\n",
      "|       10| topic_test|2025-04-22 00:17:...|207.46.13.136|22/Jan/2019:03:56...|         GET|/product/10214 HT...|        200|        39677|                   -|Mozilla/5.0 (comp...|\n",
      "|       11| topic_test|2025-04-22 00:17:...|40.77.167.129|22/Jan/2019:03:56...|         GET|/image/578/articl...|        200|         9831|                   -|Mozilla/5.0 (comp...|\n",
      "|       12| topic_test|2025-04-22 00:17:...|178.253.33.51|22/Jan/2019:03:56...|         GET|/m/product/32574/...|        200|        20406|https://www.zanbi...|Mozilla/5.0 (Linu...|\n",
      "|       13| topic_test|2025-04-22 00:17:...|40.77.167.129|22/Jan/2019:03:56...|         GET|/image/6229/produ...|        200|         1796|                   -|Mozilla/5.0 (comp...|\n",
      "|       14| topic_test|2025-04-22 00:17:...|  91.99.72.15|22/Jan/2019:03:56...|         GET|/product/10075/13...|        200|        41725|                   -|Mozilla/5.0 (X11;...|\n",
      "+---------+-----------+--------------------+-------------+--------------------+------------+--------------------+-----------+-------------+--------------------+--------------------+\n",
      "only showing top 20 rows\n",
      "\n"
     ]
    }
   ],
   "source": [
    "# Write the parsed data to console\n",
    "query = (df_formatted.writeStream.format(\"console\").outputMode(\"append\").trigger(processingTime='5 seconds').start())"
   ]
  },
  {
   "cell_type": "code",
   "execution_count": null,
   "metadata": {},
   "outputs": [
    {
     "name": "stdout",
     "output_type": "stream",
     "text": [
      "ID:ee86bca4-0408-42df-9f7e-ce9482a0d274 | NAME:None\n"
     ]
    }
   ],
   "source": [
    "# Print the name of active streams (This may be useful during debugging)\n",
    "for s in spark.streams.active:\n",
    "    print(f\"ID:{s.id} | NAME:{s.name}\")"
   ]
  },
  {
   "cell_type": "code",
   "execution_count": null,
   "metadata": {},
   "outputs": [],
   "source": [
    "query.stop()"
   ]
  },
  {
   "cell_type": "markdown",
   "metadata": {},
   "source": [
    "**Best Guess at Next Steps**"
   ]
  },
  {
   "cell_type": "markdown",
   "metadata": {},
   "source": [
    "Load labeled training data"
   ]
  },
  {
   "cell_type": "code",
   "execution_count": null,
   "metadata": {},
   "outputs": [],
   "source": [
    "df = spark.read.csv(\"archive/synthetic_with_anomalies.csv\", header=True, inferSchema=True)"
   ]
  },
  {
   "cell_type": "markdown",
   "metadata": {},
   "source": [
    "Pre-process and engineer features (might need to encode or use string indexer, depending on model)"
   ]
  },
  {
   "cell_type": "markdown",
   "metadata": {},
   "source": [
    "Split data into test and train sets\n",
    "\n",
    "Train the ML model(s) -- binary and multi-class?\n",
    "\n",
    "save the pipeline and model \n",
    "\n",
    "there is a way to apply the ML model on a stream of data and output to console\n",
    "\n",
    "might need to broadcast this data elsewhere so can show a UI.."
   ]
  }
 ],
 "metadata": {
  "kernelspec": {
   "display_name": "venv",
   "language": "python",
   "name": "python3"
  },
  "language_info": {
   "codemirror_mode": {
    "name": "ipython",
    "version": 3
   },
   "file_extension": ".py",
   "mimetype": "text/x-python",
   "name": "python",
   "nbconvert_exporter": "python",
   "pygments_lexer": "ipython3",
   "version": "3.13.1"
  }
 },
 "nbformat": 4,
 "nbformat_minor": 4
}
